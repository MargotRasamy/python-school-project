{
 "cells": [
  {
   "cell_type": "markdown",
   "metadata": {},
   "source": [
    "# Ex. 6: Let’s create a decorator using class definition"
   ]
  },
  {
   "cell_type": "markdown",
   "metadata": {},
   "source": [
    "## 1 / Create a class NbFunctionCalls."
   ]
  },
  {
   "cell_type": "code",
   "execution_count": 1,
   "metadata": {},
   "outputs": [],
   "source": [
    "class NbFunctionCalls:\n",
    "    pass"
   ]
  },
  {
   "cell_type": "markdown",
   "metadata": {},
   "source": [
    "## 2/ Each instance need to have one instance attribute named myfunction to which is assigned a function during the initialization process."
   ]
  },
  {
   "cell_type": "code",
   "execution_count": 2,
   "metadata": {},
   "outputs": [],
   "source": [
    "class NbFunctionCalls:\n",
    "    def __init__(self, myFunction):\n",
    "        self.myFunction = myFunction"
   ]
  },
  {
   "cell_type": "markdown",
   "metadata": {},
   "source": [
    "## 3/ The instance (not the class) also needs to have counter attribute."
   ]
  },
  {
   "cell_type": "code",
   "execution_count": 3,
   "metadata": {},
   "outputs": [],
   "source": [
    "class NbFunctionCalls:\n",
    "    def __init__(self, myFunction, counter):\n",
    "        self.myFunction = myFunction\n",
    "        self.counter = counter"
   ]
  },
  {
   "cell_type": "markdown",
   "metadata": {},
   "source": [
    "## 4/ Use the __call__ instance method so to be able to call the instance as if it was a function."
   ]
  },
  {
   "cell_type": "code",
   "execution_count": 4,
   "metadata": {},
   "outputs": [],
   "source": [
    "class NbFunctionCalls:\n",
    "    def __init__(self, myFunction, counter):\n",
    "        self.myFunction = myFunction\n",
    "        self.counter = counter\n",
    "    def __call__(self):\n",
    "        print(\"You have called the instance\")"
   ]
  },
  {
   "cell_type": "code",
   "execution_count": 5,
   "metadata": {},
   "outputs": [],
   "source": [
    "instance = NbFunctionCalls('hey', 5)"
   ]
  },
  {
   "cell_type": "code",
   "execution_count": 6,
   "metadata": {},
   "outputs": [],
   "source": [
    "instance()"
   ]
  },
  {
   "cell_type": "markdown",
   "metadata": {},
   "source": [
    "## 5/ To each call, the function passed as instance attribute variable needs to be called and the counter variable incremented by 1."
   ]
  },
  {
   "cell_type": "code",
   "execution_count": 7,
   "metadata": {},
   "outputs": [],
   "source": [
    "class NbFunctionCalls:\n",
    "    def __init__(self, myFunction):\n",
    "        self.myFunction = myFunction\n",
    "        self.counter = 0\n",
    "    def __call__(self):\n",
    "        self.myFunction()\n",
    "        self.counter += 1\n",
    "        print(self.counter)"
   ]
  },
  {
   "cell_type": "code",
   "execution_count": 8,
   "metadata": {},
   "outputs": [],
   "source": [
    "def printHello():\n",
    "    print(\"hello\")"
   ]
  },
  {
   "cell_type": "code",
   "execution_count": 9,
   "metadata": {},
   "outputs": [],
   "source": [
    "instance2 = NbFunctionCalls(printHello)"
   ]
  },
  {
   "cell_type": "code",
   "execution_count": 10,
   "metadata": {},
   "outputs": [],
   "source": [
    "instance2()"
   ]
  },
  {
   "cell_type": "code",
   "execution_count": 11,
   "metadata": {},
   "outputs": [],
   "source": [
    "instance2()"
   ]
  },
  {
   "cell_type": "code",
   "execution_count": 12,
   "metadata": {},
   "outputs": [],
   "source": [
    "instance2()"
   ]
  },
  {
   "cell_type": "markdown",
   "metadata": {},
   "source": [
    "## 6/ Define a function somme which computes the sum of an undefined number of params passed to it."
   ]
  },
  {
   "cell_type": "code",
   "execution_count": 13,
   "metadata": {},
   "outputs": [],
   "source": [
    "def somme(*args):\n",
    "    somme = 0\n",
    "    for arg in args:\n",
    "        somme += arg\n",
    "    return somme"
   ]
  },
  {
   "cell_type": "code",
   "execution_count": 14,
   "metadata": {},
   "outputs": [],
   "source": [
    "somme(1,2)"
   ]
  },
  {
   "cell_type": "code",
   "execution_count": 15,
   "metadata": {},
   "outputs": [],
   "source": [
    "somme(1,2,5)"
   ]
  },
  {
   "cell_type": "markdown",
   "metadata": {},
   "source": [
    "## 7/ Create a multiply function, that multiplies all passed-in args (a * b * c * … * z)"
   ]
  },
  {
   "cell_type": "code",
   "execution_count": 16,
   "metadata": {},
   "outputs": [],
   "source": [
    "def multiply(*args):\n",
    "    multiplyResult = 1\n",
    "    for arg in args:\n",
    "        multiplyResult *= arg\n",
    "    return multiplyResult"
   ]
  },
  {
   "cell_type": "code",
   "execution_count": 17,
   "metadata": {},
   "outputs": [],
   "source": [
    "multiply(2,3)"
   ]
  },
  {
   "cell_type": "markdown",
   "metadata": {},
   "source": [
    "## 8/ Use the notation @NbFunctionCalls to add the functionality brought by the decorator to somme, and also to multiply."
   ]
  },
  {
   "cell_type": "code",
   "execution_count": 18,
   "metadata": {},
   "outputs": [],
   "source": [
    "class NbFunctionCalls:\n",
    "    def __init__(self, myFunction):\n",
    "        self.myFunction = myFunction\n",
    "        self.counter = 0\n",
    "    def __call__(self, *args, **kwargs):\n",
    "        self.myFunction(*args, **kwargs)\n",
    "        self.counter += 1\n",
    "        print(\"My function result is\", self.myFunction(*args, **kwargs))\n",
    "        print(\"My function has been called\", self.counter, \"time\" if self.counter <= 1 else \"times\")"
   ]
  },
  {
   "cell_type": "code",
   "execution_count": 19,
   "metadata": {},
   "outputs": [],
   "source": [
    "@NbFunctionCalls\n",
    "def somme(*args):\n",
    "    somme = 0\n",
    "    for arg in args:\n",
    "        somme += arg\n",
    "    return somme\n",
    "\n",
    "@NbFunctionCalls\n",
    "def multiply(*args):\n",
    "    multiplyResult = 1\n",
    "    for arg in args:\n",
    "        multiplyResult *= arg\n",
    "    return multiplyResult"
   ]
  },
  {
   "cell_type": "code",
   "execution_count": 20,
   "metadata": {},
   "outputs": [],
   "source": [
    "somme(5,3)"
   ]
  },
  {
   "cell_type": "code",
   "execution_count": 21,
   "metadata": {},
   "outputs": [],
   "source": [
    "somme(5,3,6)"
   ]
  },
  {
   "cell_type": "code",
   "execution_count": 22,
   "metadata": {},
   "outputs": [],
   "source": [
    "multiply(2,3)"
   ]
  },
  {
   "cell_type": "markdown",
   "metadata": {},
   "source": [
    "## 9/ Which formula equals to the preceding notation ?"
   ]
  },
  {
   "cell_type": "code",
   "execution_count": 23,
   "metadata": {},
   "outputs": [],
   "source": [
    "NbFunctionCalls(somme(5,3))"
   ]
  },
  {
   "cell_type": "code",
   "execution_count": 24,
   "metadata": {},
   "outputs": [],
   "source": [
    "NbFunctionCalls(multiply(2,3))"
   ]
  },
  {
   "cell_type": "markdown",
   "metadata": {},
   "source": [
    "## 10/ What does somme’s type become ?"
   ]
  },
  {
   "cell_type": "markdown",
   "metadata": {},
   "source": [
    "Somme's type becomes NbFunctionCalls."
   ]
  },
  {
   "cell_type": "code",
   "execution_count": 25,
   "metadata": {},
   "outputs": [
    {
     "data": {
      "text/plain": [
       "__main__.NbFunctionCalls"
      ]
     },
     "execution_count": 25,
     "metadata": {},
     "output_type": "execute_result"
    }
   ],
   "source": [
    "type(somme)"
   ]
  },
  {
   "cell_type": "markdown",
   "metadata": {},
   "source": [
    "## 11/ Access to the counter in somme, then call mutliple times somme, then evaluates again the counter."
   ]
  },
  {
   "cell_type": "code",
   "execution_count": 26,
   "metadata": {},
   "outputs": [
    {
     "data": {
      "text/plain": [
       "3"
      ]
     },
     "execution_count": 26,
     "metadata": {},
     "output_type": "execute_result"
    }
   ],
   "source": [
    "somme.counter"
   ]
  },
  {
   "cell_type": "code",
   "execution_count": 27,
   "metadata": {},
   "outputs": [
    {
     "name": "stdout",
     "output_type": "stream",
     "text": [
      "My function result is 7\n",
      "My function has been called 4 times\n"
     ]
    }
   ],
   "source": [
    "somme(3,4)"
   ]
  },
  {
   "cell_type": "code",
   "execution_count": 28,
   "metadata": {},
   "outputs": [
    {
     "name": "stdout",
     "output_type": "stream",
     "text": [
      "My function result is 6\n",
      "My function has been called 5 times\n"
     ]
    }
   ],
   "source": [
    "somme(2,4)"
   ]
  },
  {
   "cell_type": "code",
   "execution_count": 29,
   "metadata": {},
   "outputs": [
    {
     "data": {
      "text/plain": [
       "5"
      ]
     },
     "execution_count": 29,
     "metadata": {},
     "output_type": "execute_result"
    }
   ],
   "source": [
    "somme.counter"
   ]
  },
  {
   "cell_type": "markdown",
   "metadata": {},
   "source": [
    "## 12/ Evaluate the counter in multiply. Is it different from somme or similar ?"
   ]
  },
  {
   "cell_type": "code",
   "execution_count": 30,
   "metadata": {},
   "outputs": [
    {
     "data": {
      "text/plain": [
       "2"
      ]
     },
     "execution_count": 30,
     "metadata": {},
     "output_type": "execute_result"
    }
   ],
   "source": [
    "multiply.counter"
   ]
  },
  {
   "cell_type": "markdown",
   "metadata": {},
   "source": [
    "The counter in multiply is different from somme because they are each time we call the function somme or multiply, it increments the self counter for somme or multiply. Which means they are different instances."
   ]
  },
  {
   "cell_type": "markdown",
   "metadata": {},
   "source": [
    "## 13/ What functionality does NbFunctionCalls bring ?"
   ]
  },
  {
   "cell_type": "markdown",
   "metadata": {},
   "source": [
    "NbFunctionCalls bring the functionnality that counts the number of times we called a function AND also proceeds to call the function in argument itself."
   ]
  },
  {
   "cell_type": "markdown",
   "metadata": {},
   "source": [
    "## 14/ Copy the overall structure of NbFunctionCalls. Paste-it in another cell, and change the class name to NbOfAllFunctionCalls."
   ]
  },
  {
   "cell_type": "code",
   "execution_count": 31,
   "metadata": {},
   "outputs": [],
   "source": [
    "class NbOfAllFunctionCalls:\n",
    "    def __init__(self, myFunction):\n",
    "        self.myFunction = myFunction\n",
    "        self.counter = 0\n",
    "    def __call__(self, *args, **kwargs):\n",
    "        self.myFunction(*args, **kwargs)\n",
    "        self.counter += 1\n",
    "        print(\"My function result is\", self.myFunction(*args, **kwargs))\n",
    "        print(\"My function has been called\", self.counter, \"time\" if self.counter <= 1 else \"times\")"
   ]
  },
  {
   "cell_type": "markdown",
   "metadata": {},
   "source": [
    "## 15/ This time, in this new class named NbOfAllFunctionCalls, move the counter as class variable and not instance variable."
   ]
  },
  {
   "cell_type": "code",
   "execution_count": 32,
   "metadata": {},
   "outputs": [],
   "source": [
    "class NbOfAllFunctionCalls:\n",
    "    counter = 0\n",
    "    def __init__(self, myFunction):\n",
    "        self.myFunction = myFunction\n",
    "    def __call__(self, *args, **kwargs):\n",
    "        self.myFunction(*args, **kwargs)\n",
    "        self.__class__.counter += 1\n",
    "        print(\"My function result is\", self.myFunction(*args, **kwargs))\n",
    "        print(\"Counter is\", self.counter)"
   ]
  },
  {
   "cell_type": "markdown",
   "metadata": {},
   "source": [
    "## 16/ Delete the@NbFunctionCalls for multiply and add @NbOfAllFunctionCalls to both multiply and divide."
   ]
  },
  {
   "cell_type": "code",
   "execution_count": 33,
   "metadata": {},
   "outputs": [],
   "source": [
    "@NbOfAllFunctionCalls\n",
    "def somme(*args):\n",
    "    somme = 0\n",
    "    for arg in args:\n",
    "        somme += arg\n",
    "    return somme\n",
    "\n",
    "@NbOfAllFunctionCalls\n",
    "def multiply(*args):\n",
    "    multiplyResult = 1\n",
    "    for arg in args:\n",
    "        multiplyResult *= arg\n",
    "    return multiplyResult"
   ]
  },
  {
   "cell_type": "markdown",
   "metadata": {},
   "source": [
    "## 17/ Call them separately and check their respective counters, what is happening ?"
   ]
  },
  {
   "cell_type": "code",
   "execution_count": 34,
   "metadata": {},
   "outputs": [
    {
     "name": "stdout",
     "output_type": "stream",
     "text": [
      "My function result is 5\n",
      "Counter is 1\n"
     ]
    }
   ],
   "source": [
    "somme(3,2)"
   ]
  },
  {
   "cell_type": "code",
   "execution_count": 35,
   "metadata": {},
   "outputs": [
    {
     "name": "stdout",
     "output_type": "stream",
     "text": [
      "My function result is 6\n",
      "Counter is 2\n"
     ]
    }
   ],
   "source": [
    "multiply(3,2)"
   ]
  },
  {
   "cell_type": "markdown",
   "metadata": {},
   "source": [
    "The counter becomes the number of times we call any function."
   ]
  },
  {
   "cell_type": "markdown",
   "metadata": {},
   "source": [
    "## 18/ In the same context, create a new (class) decorator to record the different results from those functions. The results must be saved in a dictionary:\n",
    "* keys = params used\n",
    "* values = results obtained"
   ]
  },
  {
   "cell_type": "code",
   "execution_count": 36,
   "metadata": {},
   "outputs": [],
   "source": [
    "class TheResultsOfAllFunctions:\n",
    "    result = {}\n",
    "    def __init__(self, myFunction):\n",
    "        self.myFunction = myFunction\n",
    "    def __call__(self, *args):\n",
    "        self.myFunction(*args)\n",
    "        self.__class__.result[self.myFunction.__name__, args] = self.myFunction(*args)\n",
    "        print(\"My function result is\", self.myFunction(*args))\n",
    "        print(\"Results record\", self.result)"
   ]
  },
  {
   "cell_type": "code",
   "execution_count": 37,
   "metadata": {},
   "outputs": [],
   "source": [
    "@TheResultsOfAllFunctions\n",
    "def somme(*args):\n",
    "    somme = 0\n",
    "    for arg in args:\n",
    "        somme += arg\n",
    "    return somme\n",
    "\n",
    "@TheResultsOfAllFunctions\n",
    "def multiply(*args):\n",
    "    multiplyResult = 1\n",
    "    for arg in args:\n",
    "        multiplyResult *= arg\n",
    "    return multiplyResult"
   ]
  },
  {
   "cell_type": "code",
   "execution_count": 38,
   "metadata": {},
   "outputs": [
    {
     "name": "stdout",
     "output_type": "stream",
     "text": [
      "My function result is 4\n",
      "Results record {('somme', (1, 3)): 4}\n"
     ]
    }
   ],
   "source": [
    "somme(1,3)"
   ]
  },
  {
   "cell_type": "code",
   "execution_count": 39,
   "metadata": {},
   "outputs": [
    {
     "name": "stdout",
     "output_type": "stream",
     "text": [
      "My function result is 12\n",
      "Results record {('somme', (1, 3)): 4, ('multiply', (2, 6)): 12}\n"
     ]
    }
   ],
   "source": [
    "multiply(2,6)"
   ]
  },
  {
   "cell_type": "markdown",
   "metadata": {},
   "source": [
    "# Ex. 7: Create a custom list"
   ]
  },
  {
   "cell_type": "markdown",
   "metadata": {},
   "source": [
    "## 1 / Create a class List whose behavior upon doing liste1 + liste2 (with liste1 and liste2 being List instances), is to add each of their elements element-wise i.e. liste1[i] + liste2[i] for each i."
   ]
  },
  {
   "cell_type": "code",
   "execution_count": 40,
   "metadata": {},
   "outputs": [],
   "source": [
    "class List(list):\n",
    "    def __init__(self, *listElements):\n",
    "        super().__init__(*listElements)\n",
    "    def __add__(self, another_list):\n",
    "        if isinstance(another_list, List):\n",
    "            result = List()\n",
    "            if len(self) == len(another_list):\n",
    "                for i in range(0, len(self)):\n",
    "                    result.append(self[i] + another_list[i])\n",
    "            elif len(self) > len(another_list):\n",
    "                for i in range(0, len(another_list)):\n",
    "                    result.append(self[i] + another_list[i])\n",
    "                for i in range(len(another_list), len(self)):\n",
    "                    result.append(self[i] + 0)\n",
    "            elif len(self) < len(another_list):\n",
    "                for i in range(0, len(self)):\n",
    "                    result.append(another_list[i] + self[i])\n",
    "                for i in range(len(self), len(another_list)):\n",
    "                    result.append(another_list[i] + 0)\n",
    "            return result\n",
    "        raise Exception(\"Another list is not of type list\")"
   ]
  },
  {
   "cell_type": "code",
   "execution_count": 41,
   "metadata": {},
   "outputs": [],
   "source": [
    "list1 = List([2,3])"
   ]
  },
  {
   "cell_type": "code",
   "execution_count": 42,
   "metadata": {},
   "outputs": [],
   "source": [
    "list2 = List([2,1,5,6,4,6])"
   ]
  },
  {
   "cell_type": "code",
   "execution_count": 43,
   "metadata": {},
   "outputs": [
    {
     "data": {
      "text/plain": [
       "[4, 4, 5, 6, 4, 6]"
      ]
     },
     "execution_count": 43,
     "metadata": {},
     "output_type": "execute_result"
    }
   ],
   "source": [
    "list1 + list2"
   ]
  },
  {
   "cell_type": "markdown",
   "metadata": {},
   "source": [
    "## 2 / Create a class IntegerList whose constructors creates a list of integers from any passed-in list (filtering-out the non-integer elements). E.g. IntegerList([1,2,\"hello\", 3,4, (1,2), \"test\"]) returns [1,2,3,4]"
   ]
  },
  {
   "cell_type": "code",
   "execution_count": 44,
   "metadata": {},
   "outputs": [],
   "source": [
    "class IntegerList(list):\n",
    "    def __init__(self, *listElements):\n",
    "        filteredElements = []\n",
    "        for aList in listElements:\n",
    "            for element in aList:\n",
    "                if type(element) == int:\n",
    "                    filteredElements.append(element)\n",
    "        super().__init__(filteredElements)"
   ]
  },
  {
   "cell_type": "code",
   "execution_count": 45,
   "metadata": {},
   "outputs": [],
   "source": [
    "hello = IntegerList([5,4,3, \"hello\"])"
   ]
  },
  {
   "cell_type": "code",
   "execution_count": 46,
   "metadata": {},
   "outputs": [
    {
     "data": {
      "text/plain": [
       "[1, 2, 3, 4]"
      ]
     },
     "execution_count": 46,
     "metadata": {},
     "output_type": "execute_result"
    }
   ],
   "source": [
    "IntegerList([1,2,\"hello\", 3,4, (1,2), \"test\"])"
   ]
  },
  {
   "cell_type": "markdown",
   "metadata": {},
   "source": [
    "## 3 / Create an instance method apply_func, that takes a function as parameter, and apply it on each element of the list (being integers, see 2.)"
   ]
  },
  {
   "cell_type": "code",
   "execution_count": 47,
   "metadata": {},
   "outputs": [],
   "source": [
    "class IntegerList(list):\n",
    "    def __init__(self, *listElements):\n",
    "        filteredElements = []\n",
    "        for aList in listElements:\n",
    "            for element in aList:\n",
    "                if type(element) == int:\n",
    "                    filteredElements.append(element)\n",
    "        super().__init__(filteredElements)\n",
    "    def apply_func(self, function):\n",
    "        for el in self:\n",
    "            function(el)"
   ]
  },
  {
   "cell_type": "code",
   "execution_count": 48,
   "metadata": {},
   "outputs": [],
   "source": [
    "functionTest = IntegerList([5,4,3, \"hello\"])"
   ]
  },
  {
   "cell_type": "code",
   "execution_count": 49,
   "metadata": {},
   "outputs": [
    {
     "name": "stdout",
     "output_type": "stream",
     "text": [
      "My function result is 5\n",
      "Results record {('somme', (1, 3)): 4, ('multiply', (2, 6)): 12, ('somme', (5,)): 5}\n",
      "My function result is 4\n",
      "Results record {('somme', (1, 3)): 4, ('multiply', (2, 6)): 12, ('somme', (5,)): 5, ('somme', (4,)): 4}\n",
      "My function result is 3\n",
      "Results record {('somme', (1, 3)): 4, ('multiply', (2, 6)): 12, ('somme', (5,)): 5, ('somme', (4,)): 4, ('somme', (3,)): 3}\n"
     ]
    }
   ],
   "source": [
    "functionTest.apply_func(somme)"
   ]
  },
  {
   "cell_type": "markdown",
   "metadata": {},
   "source": [
    "## 4 / When we index the IntegerList (e.g. IntegerList[2]), it should returns an additional message like “element of index i has for value value” in addition to return the elements. (a print is enough)."
   ]
  },
  {
   "cell_type": "code",
   "execution_count": 50,
   "metadata": {},
   "outputs": [],
   "source": [
    "class IntegerList(list):\n",
    "    def __init__(self, *listElements):\n",
    "        filteredElements = []\n",
    "        for aList in listElements:\n",
    "            for element in aList:\n",
    "                if type(element) == int:\n",
    "                    filteredElements.append(element)\n",
    "        super().__init__(filteredElements)\n",
    "    def apply_func(self, function):\n",
    "        for el in self:\n",
    "            function(el)\n",
    "    def __getitem__(self, itemIndex):\n",
    "        value = super().__getitem__(itemIndex)\n",
    "        print(\"The element of index \" + str(itemIndex) + \" has for value: \" + str(value))\n",
    "        return value"
   ]
  },
  {
   "cell_type": "code",
   "execution_count": 51,
   "metadata": {},
   "outputs": [],
   "source": [
    "hello = IntegerList([5,4,3, \"hello\"])"
   ]
  },
  {
   "cell_type": "code",
   "execution_count": 52,
   "metadata": {},
   "outputs": [
    {
     "name": "stdout",
     "output_type": "stream",
     "text": [
      "The element of index 1 has for value: 4\n"
     ]
    },
    {
     "data": {
      "text/plain": [
       "4"
      ]
     },
     "execution_count": 52,
     "metadata": {},
     "output_type": "execute_result"
    }
   ],
   "source": [
    "hello[1]"
   ]
  },
  {
   "cell_type": "markdown",
   "metadata": {},
   "source": [
    "## 5 / Bonus: adapt also for slicing the IntegerList (e.g. IntegerList[0:4])."
   ]
  },
  {
   "cell_type": "code",
   "execution_count": 53,
   "metadata": {},
   "outputs": [],
   "source": [
    "class IntegerList(list):\n",
    "    def __init__(self, *listElements):\n",
    "        filteredElements = []\n",
    "        for aList in listElements:\n",
    "            for element in aList:\n",
    "                if type(element) == int:\n",
    "                    filteredElements.append(element)\n",
    "        super().__init__(filteredElements)\n",
    "    def apply_func(self, function):\n",
    "        for el in self:\n",
    "            function(el)\n",
    "    def __getitem__(self, itemIndex):\n",
    "        if type(itemIndex) == slice:\n",
    "            slicedList = []\n",
    "            if itemIndex.step:\n",
    "                for i in range(itemIndex.start, itemIndex.stop, itemIndex.step):\n",
    "                    slicedList.append(super().__getitem__(i))\n",
    "                print(slicedList)\n",
    "            else:\n",
    "                for i in range(itemIndex.start, itemIndex.stop):\n",
    "                    slicedList.append(super().__getitem__(i))\n",
    "                print(slicedList)\n",
    "        else:\n",
    "            value = super().__getitem__(itemIndex)\n",
    "            print(type(itemIndex))\n",
    "            print(\"The element of index \" + str(itemIndex) + \" has for value: \" + str(value))"
   ]
  },
  {
   "cell_type": "code",
   "execution_count": 54,
   "metadata": {},
   "outputs": [],
   "source": [
    "hello = IntegerList([5,4,3, \"hello\"])"
   ]
  },
  {
   "cell_type": "code",
   "execution_count": 55,
   "metadata": {},
   "outputs": [
    {
     "name": "stdout",
     "output_type": "stream",
     "text": [
      "[5, 4]\n"
     ]
    }
   ],
   "source": [
    "hello[0:2]"
   ]
  },
  {
   "cell_type": "code",
   "execution_count": 56,
   "metadata": {},
   "outputs": [],
   "source": [
    "hi = IntegerList([5,4,3,6,7,5,\"hello\",5,6,3])"
   ]
  },
  {
   "cell_type": "code",
   "execution_count": 57,
   "metadata": {},
   "outputs": [
    {
     "name": "stdout",
     "output_type": "stream",
     "text": [
      "[5, 3, 7, 5]\n"
     ]
    }
   ],
   "source": [
    "hi[0:7:2]"
   ]
  },
  {
   "cell_type": "code",
   "execution_count": null,
   "metadata": {},
   "outputs": [],
   "source": []
  }
 ],
 "metadata": {
  "kernelspec": {
   "display_name": "Python 3",
   "language": "python",
   "name": "python3"
  },
  "language_info": {
   "codemirror_mode": {
    "name": "ipython",
    "version": 3
   },
   "file_extension": ".py",
   "mimetype": "text/x-python",
   "name": "python",
   "nbconvert_exporter": "python",
   "pygments_lexer": "ipython3",
   "version": "3.8.3"
  }
 },
 "nbformat": 4,
 "nbformat_minor": 4
}
