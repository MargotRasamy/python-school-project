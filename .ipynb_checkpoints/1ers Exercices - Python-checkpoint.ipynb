{
 "cells": [
  {
   "cell_type": "markdown",
   "metadata": {},
   "source": [
    "# Ex. 1: from a list of lists to a dictionnary"
   ]
  },
  {
   "cell_type": "markdown",
   "metadata": {},
   "source": [
    "## Using dict constructor"
   ]
  },
  {
   "cell_type": "code",
   "execution_count": 1,
   "metadata": {},
   "outputs": [],
   "source": [
    "liste = [[1, 2], [3,4], [5,6], [7,8]] "
   ]
  },
  {
   "cell_type": "code",
   "execution_count": 2,
   "metadata": {},
   "outputs": [],
   "source": [
    "dict = dict()"
   ]
  },
  {
   "cell_type": "code",
   "execution_count": 3,
   "metadata": {},
   "outputs": [],
   "source": [
    "for element in liste:\n",
    "    dict[element[0]] = element[1]"
   ]
  },
  {
   "cell_type": "code",
   "execution_count": 4,
   "metadata": {},
   "outputs": [
    {
     "data": {
      "text/plain": [
       "{1: 2, 3: 4, 5: 6, 7: 8}"
      ]
     },
     "execution_count": 4,
     "metadata": {},
     "output_type": "execute_result"
    }
   ],
   "source": [
    "dict"
   ]
  },
  {
   "cell_type": "markdown",
   "metadata": {},
   "source": [
    "## Using dict comprehension"
   ]
  },
  {
   "cell_type": "code",
   "execution_count": 5,
   "metadata": {},
   "outputs": [],
   "source": [
    "dict2 = { element[0]:element[1] for element in liste }"
   ]
  },
  {
   "cell_type": "code",
   "execution_count": 6,
   "metadata": {},
   "outputs": [
    {
     "data": {
      "text/plain": [
       "{1: 2, 3: 4, 5: 6, 7: 8}"
      ]
     },
     "execution_count": 6,
     "metadata": {},
     "output_type": "execute_result"
    }
   ],
   "source": [
    "dict2"
   ]
  },
  {
   "cell_type": "markdown",
   "metadata": {},
   "source": [
    "# Ex. 2: Counting character frequencies in a text."
   ]
  },
  {
   "cell_type": "code",
   "execution_count": 7,
   "metadata": {},
   "outputs": [],
   "source": [
    "text = \"\"\"Lorem ipsum dolor sit amet, consectetur adipiscing elit. Vestibulum sagittis neque turpis, in gravida erat tincidunt a. Maecenas lobortis rutrum arcu, in posuere dolor fermentum sed. Duis imperdiet laoreet nibh, a pretium lectus condimentum eget. Maecenas eu elit vitae nibh euismod lacinia et a tortor. Donec at egestas leo, eget molestie quam. Sed elementum scelerisque sapien, quis suscipit ex malesuada vel. Aenean non mollis erat, in tincidunt massa.\n",
    "\n",
    "Mauris semper, purus in dictum imperdiet, libero nunc bibendum ex, eget facilisis turpis lorem ac lorem. Sed bibendum scelerisque tortor vel dictum. Aliquam dignissim eget erat non mollis. Maecenas vehicula feugiat tortor, in vulputate ex molestie nec. Ut suscipit iaculis nulla, auctor elementum urna dapibus non. Fusce facilisis mollis tellus sit amet venenatis. Praesent metus enim, tincidunt posuere tellus et, placerat tincidunt justo.\n",
    "\n",
    "Nunc id gravida ipsum, id porttitor magna. Maecenas porttitor accumsan odio non mattis. Suspendisse ultrices eleifend tristique. Vivamus accumsan libero tortor, eu aliquam sapien iaculis sed. In congue quis mi sed condimentum. Ut est libero, condimentum sit amet sagittis eu, tincidunt sed risus. Suspendisse pharetra molestie rutrum. Cras bibendum, dui ac consectetur eleifend, leo leo laoreet nibh, eget tristique lorem enim a nisi.\n",
    "\n",
    "Duis a purus eu augue consectetur malesuada id nec ex. Pellentesque sed odio laoreet, imperdiet dui ut, sodales odio. Class aptent taciti sociosqu ad litora torquent per conubia nostra, per inceptos himenaeos. Donec interdum, tortor eu dapibus pharetra, libero nisi faucibus nisl, id malesuada felis diam id urna. Praesent est metus, gravida eu luctus vitae, egestas vel metus. Class aptent taciti sociosqu ad litora torquent per conubia nostra, per inceptos himenaeos. Cras suscipit malesuada dui, vitae faucibus libero mollis a. In posuere blandit augue, sed semper ante imperdiet sed. Cras egestas posuere augue at semper. Praesent fermentum nunc risus, vitae aliquet augue consectetur a. Fusce interdum orci nunc, non posuere ex venenatis id. Nam faucibus fringilla mollis. Nulla ac enim accumsan, accumsan risus sit amet, rutrum tellus. Praesent lacinia augue at pulvinar venenatis. Etiam nunc augue, suscipit a faucibus sed, sodales ut mauris.\n",
    "\n",
    "Quisque quis magna malesuada, ultricies leo eget, elementum est. Praesent enim purus, pretium a nisl quis, accumsan blandit sapien. Class aptent taciti sociosqu ad litora torquent per conubia nostra, per inceptos himenaeos. Mauris ultricies iaculis nunc, quis fringilla arcu bibendum ac. Integer eu sem eget dui tempor sagittis. Ut sit amet ipsum quis nisi porttitor pulvinar. Etiam suscipit, leo nec fringilla luctus, lacus est egestas augue, eget vestibulum augue diam non eros. Duis posuere ac magna eget ullamcorper.\n",
    "\"\"\""
   ]
  },
  {
   "cell_type": "markdown",
   "metadata": {},
   "source": [
    "## Using a simple Python dictionary"
   ]
  },
  {
   "cell_type": "code",
   "execution_count": 8,
   "metadata": {},
   "outputs": [],
   "source": [
    "freqDict = {}\n",
    "lowerCaseText = text.lower()\n",
    "\n",
    "for char in lowerCaseText:\n",
    "    freqDict[char] = lowerCaseText.count(char)"
   ]
  },
  {
   "cell_type": "code",
   "execution_count": 9,
   "metadata": {},
   "outputs": [
    {
     "data": {
      "text/plain": [
       "{'l': 107,\n",
       " 'o': 108,\n",
       " 'r': 128,\n",
       " 'e': 287,\n",
       " 'm': 105,\n",
       " ' ': 410,\n",
       " 'i': 232,\n",
       " 'p': 65,\n",
       " 's': 207,\n",
       " 'u': 193,\n",
       " 'd': 76,\n",
       " 't': 196,\n",
       " 'a': 194,\n",
       " ',': 47,\n",
       " 'c': 102,\n",
       " 'n': 150,\n",
       " 'g': 38,\n",
       " '.': 46,\n",
       " 'v': 21,\n",
       " 'b': 30,\n",
       " 'q': 24,\n",
       " 'f': 17,\n",
       " 'h': 9,\n",
       " 'x': 5,\n",
       " '\\n': 9,\n",
       " 'j': 1}"
      ]
     },
     "execution_count": 9,
     "metadata": {},
     "output_type": "execute_result"
    }
   ],
   "source": [
    "freqDict"
   ]
  },
  {
   "cell_type": "markdown",
   "metadata": {},
   "source": [
    "## Using a defaultdict (subclass of dict)"
   ]
  },
  {
   "cell_type": "code",
   "execution_count": 11,
   "metadata": {},
   "outputs": [],
   "source": [
    "from collections import defaultdict\n",
    "defaultDictFreq = defaultdict(int)\n",
    "\n",
    "for char in lowerCaseText:\n",
    "    defaultDictFreq[char] += 1"
   ]
  },
  {
   "cell_type": "code",
   "execution_count": 12,
   "metadata": {},
   "outputs": [
    {
     "data": {
      "text/plain": [
       "defaultdict(int,\n",
       "            {'l': 107,\n",
       "             'o': 108,\n",
       "             'r': 128,\n",
       "             'e': 287,\n",
       "             'm': 105,\n",
       "             ' ': 410,\n",
       "             'i': 232,\n",
       "             'p': 65,\n",
       "             's': 207,\n",
       "             'u': 193,\n",
       "             'd': 76,\n",
       "             't': 196,\n",
       "             'a': 194,\n",
       "             ',': 47,\n",
       "             'c': 102,\n",
       "             'n': 150,\n",
       "             'g': 38,\n",
       "             '.': 46,\n",
       "             'v': 21,\n",
       "             'b': 30,\n",
       "             'q': 24,\n",
       "             'f': 17,\n",
       "             'h': 9,\n",
       "             'x': 5,\n",
       "             '\\n': 9,\n",
       "             'j': 1})"
      ]
     },
     "execution_count": 12,
     "metadata": {},
     "output_type": "execute_result"
    }
   ],
   "source": [
    "defaultDictFreq"
   ]
  },
  {
   "cell_type": "markdown",
   "metadata": {},
   "source": [
    "## Using Counter (subclass of dict)"
   ]
  },
  {
   "cell_type": "code",
   "execution_count": 13,
   "metadata": {},
   "outputs": [],
   "source": [
    "from collections import Counter\n",
    "counter = Counter()\n",
    "for char in text.lower():\n",
    "    counter[char] += 1"
   ]
  },
  {
   "cell_type": "code",
   "execution_count": 14,
   "metadata": {},
   "outputs": [
    {
     "data": {
      "text/plain": [
       "Counter({'l': 107,\n",
       "         'o': 108,\n",
       "         'r': 128,\n",
       "         'e': 287,\n",
       "         'm': 105,\n",
       "         ' ': 410,\n",
       "         'i': 232,\n",
       "         'p': 65,\n",
       "         's': 207,\n",
       "         'u': 193,\n",
       "         'd': 76,\n",
       "         't': 196,\n",
       "         'a': 194,\n",
       "         ',': 47,\n",
       "         'c': 102,\n",
       "         'n': 150,\n",
       "         'g': 38,\n",
       "         '.': 46,\n",
       "         'v': 21,\n",
       "         'b': 30,\n",
       "         'q': 24,\n",
       "         'f': 17,\n",
       "         'h': 9,\n",
       "         'x': 5,\n",
       "         '\\n': 9,\n",
       "         'j': 1})"
      ]
     },
     "execution_count": 14,
     "metadata": {},
     "output_type": "execute_result"
    }
   ],
   "source": [
    "counter"
   ]
  },
  {
   "cell_type": "markdown",
   "metadata": {},
   "source": [
    "## Ex. 3: decoding mARN using dict and list comprehensions !"
   ]
  },
  {
   "cell_type": "code",
   "execution_count": 15,
   "metadata": {},
   "outputs": [],
   "source": [
    "amino_acids_from_triplets = {\n",
    " \"Ala\":   (\"GCT\", \"GCC\", \"GCA\", \"GCG\"),\n",
    " \"Arg\":    (\"CGT\", \"CGC\", \"CGA\", \"CGG\", \"AGA\", \"AGG\"),\n",
    " \"Asn\":    (\"AAT\", \"AAC\"),\n",
    " \"Asp\":    (\"GAT\", \"GAC\"),\n",
    " \"Cys\":    (\"TGT\", \"TGC\"),\n",
    " \"Gln\":    (\"CAA\", \"CAG\"),\n",
    " \"Glu\":    (\"GAA\", \"GAG\"),\n",
    " \"Gly\":    (\"GGT\", \"GGC\", \"GGA\", \"GGG\"),\n",
    " \"His\":    (\"CAT\", \"CAC\"),\n",
    " \"Ile\":    (\"ATT\", \"ATC\", \"ATA\"),\n",
    " \"Leu\":    (\"CTT\", \"CTC\", \"CTA\", \"CTG\", \"TTA\", \"TTG\"),\n",
    " \"Lys\":    (\"AAA\", \"AAG\"),\n",
    " \"Met\":    (\"ATG\"),\n",
    " \"Phe\":    (\"TTT\", \"TTC\"),\n",
    " \"Pro\":    (\"CCT\", \"CCC\", \"CCA\", \"CCG\"),\n",
    " \"Ser\":    (\"TCT\", \"TCC\", \"TCA\", \"TCG\", \"AGT\", \"AGC\"),\n",
    " \"Thr\":    (\"ACT\", \"ACC\", \"ACA\", \"ACG\"),\n",
    " \"Trp\":    (\"TGG\"),\n",
    " \"Tyr\":    (\"TAT\", \"TAC\"),\n",
    " \"Val\":    (\"GTT\", \"GTC\", \"GTA\", \"GTG\"),\n",
    " \"STOP\":   (\"TAA\", \"TGA\", \"TAG\") \n",
    "}"
   ]
  },
  {
   "cell_type": "markdown",
   "metadata": {},
   "source": [
    "## Using dict comprehension, convert the dictionary in another one having keys as tuples of nucleotides and resulting amino-acids as values"
   ]
  },
  {
   "cell_type": "code",
   "execution_count": 16,
   "metadata": {},
   "outputs": [],
   "source": [
    "all_triplets_to_amino_acids = { triplets:amino for amino, triplets in amino_acids_from_triplets.items() }"
   ]
  },
  {
   "cell_type": "code",
   "execution_count": 17,
   "metadata": {},
   "outputs": [
    {
     "data": {
      "text/plain": [
       "{('GCT', 'GCC', 'GCA', 'GCG'): 'Ala',\n",
       " ('CGT', 'CGC', 'CGA', 'CGG', 'AGA', 'AGG'): 'Arg',\n",
       " ('AAT', 'AAC'): 'Asn',\n",
       " ('GAT', 'GAC'): 'Asp',\n",
       " ('TGT', 'TGC'): 'Cys',\n",
       " ('CAA', 'CAG'): 'Gln',\n",
       " ('GAA', 'GAG'): 'Glu',\n",
       " ('GGT', 'GGC', 'GGA', 'GGG'): 'Gly',\n",
       " ('CAT', 'CAC'): 'His',\n",
       " ('ATT', 'ATC', 'ATA'): 'Ile',\n",
       " ('CTT', 'CTC', 'CTA', 'CTG', 'TTA', 'TTG'): 'Leu',\n",
       " ('AAA', 'AAG'): 'Lys',\n",
       " 'ATG': 'Met',\n",
       " ('TTT', 'TTC'): 'Phe',\n",
       " ('CCT', 'CCC', 'CCA', 'CCG'): 'Pro',\n",
       " ('TCT', 'TCC', 'TCA', 'TCG', 'AGT', 'AGC'): 'Ser',\n",
       " ('ACT', 'ACC', 'ACA', 'ACG'): 'Thr',\n",
       " 'TGG': 'Trp',\n",
       " ('TAT', 'TAC'): 'Tyr',\n",
       " ('GTT', 'GTC', 'GTA', 'GTG'): 'Val',\n",
       " ('TAA', 'TGA', 'TAG'): 'STOP'}"
      ]
     },
     "execution_count": 17,
     "metadata": {},
     "output_type": "execute_result"
    }
   ],
   "source": [
    "all_triplets_to_amino_acids"
   ]
  },
  {
   "cell_type": "markdown",
   "metadata": {},
   "source": [
    "## Using dict comprehension, expand the tuples in dictionary all_triplets_to_amino_acids as simple keys for each element of the tuples. Hence you should have in the resulting dictionary multiple same amino acids values for some keys (e.g. “CAT”: “His”, “CAC”: “His”)"
   ]
  },
  {
   "cell_type": "code",
   "execution_count": null,
   "metadata": {},
   "outputs": [],
   "source": []
  }
 ],
 "metadata": {
  "kernelspec": {
   "display_name": "Python 3",
   "language": "python",
   "name": "python3"
  },
  "language_info": {
   "codemirror_mode": {
    "name": "ipython",
    "version": 3
   },
   "file_extension": ".py",
   "mimetype": "text/x-python",
   "name": "python",
   "nbconvert_exporter": "python",
   "pygments_lexer": "ipython3",
   "version": "3.8.3"
  }
 },
 "nbformat": 4,
 "nbformat_minor": 4
}
